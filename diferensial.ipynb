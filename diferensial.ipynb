{
 "cells": [
  {
   "cell_type": "code",
   "execution_count": 1,
   "id": "90ffe736",
   "metadata": {},
   "outputs": [],
   "source": [
    "import matplotlib.pyplot as plt\n",
    "import numpy as np\n",
    "import sympy as sp\n",
    "from sympy import *"
   ]
  },
  {
   "cell_type": "code",
   "execution_count": 2,
   "id": "4c74b3c3",
   "metadata": {},
   "outputs": [],
   "source": [
    "x, y, a, b, c = sp.symbols('x y a b c')"
   ]
  },
  {
   "cell_type": "markdown",
   "id": "2a36ae77",
   "metadata": {},
   "source": [
    "$$ \\frac{d}{dx} \\left( \\frac{y + \\sin x}{1 - \\cos x} \\right)^2 $$"
   ]
  },
  {
   "cell_type": "code",
   "execution_count": 3,
   "id": "e812f173",
   "metadata": {},
   "outputs": [
    {
     "data": {
      "text/latex": [
       "$\\displaystyle \\frac{\\left(y + \\sin{\\left(x \\right)}\\right)^{2}}{\\left(1 - \\cos{\\left(x \\right)}\\right)^{2}}$"
      ],
      "text/plain": [
       "(y + sin(x))**2/(1 - cos(x))**2"
      ]
     },
     "execution_count": 3,
     "metadata": {},
     "output_type": "execute_result"
    }
   ],
   "source": [
    "f = ((y+sp.sin(x))/(1-sp.cos(x)))**2\n",
    "f"
   ]
  },
  {
   "cell_type": "code",
   "execution_count": 4,
   "id": "1688d4d3",
   "metadata": {},
   "outputs": [
    {
     "data": {
      "text/latex": [
       "$\\displaystyle \\frac{2 y + 2 \\sin{\\left(x \\right)}}{\\left(1 - \\cos{\\left(x \\right)}\\right)^{2}}$"
      ],
      "text/plain": [
       "(2*y + 2*sin(x))/(1 - cos(x))**2"
      ]
     },
     "execution_count": 4,
     "metadata": {},
     "output_type": "execute_result"
    }
   ],
   "source": [
    "dfdx  = sp.diff(f, y)\n",
    "dfdx"
   ]
  },
  {
   "cell_type": "code",
   "execution_count": 5,
   "id": "f5eca16f",
   "metadata": {},
   "outputs": [
    {
     "data": {
      "text/latex": [
       "$\\displaystyle \\frac{2}{\\left(\\cos{\\left(x \\right)} - 1\\right)^{2}}$"
      ],
      "text/plain": [
       "2/(cos(x) - 1)**2"
      ]
     },
     "execution_count": 5,
     "metadata": {},
     "output_type": "execute_result"
    }
   ],
   "source": [
    "d2fdx2 = sp.diff(f, y, 2)\n",
    "d2fdx2"
   ]
  },
  {
   "cell_type": "code",
   "execution_count": 6,
   "id": "f7e37cd7",
   "metadata": {},
   "outputs": [
    {
     "data": {
      "text/latex": [
       "$\\displaystyle 0$"
      ],
      "text/plain": [
       "0"
      ]
     },
     "execution_count": 6,
     "metadata": {},
     "output_type": "execute_result"
    }
   ],
   "source": [
    "d3fdx3 = sp.diff(f, y, 3)\n",
    "d3fdx3"
   ]
  },
  {
   "cell_type": "markdown",
   "id": "fb7ccd27",
   "metadata": {},
   "source": [
    "$$ \\frac{d}{dx} ({x^3 + x^2y+ \\cos x}) $$"
   ]
  },
  {
   "cell_type": "code",
   "execution_count": 7,
   "id": "681e739a",
   "metadata": {},
   "outputs": [
    {
     "data": {
      "text/latex": [
       "$\\displaystyle x^{3} + x^{2} y + \\cos{\\left(x \\right)}$"
      ],
      "text/plain": [
       "x**3 + x**2*y + cos(x)"
      ]
     },
     "execution_count": 7,
     "metadata": {},
     "output_type": "execute_result"
    }
   ],
   "source": [
    "f = x**3 + x**2*y + sp.cos(x)\n",
    "f"
   ]
  },
  {
   "cell_type": "code",
   "execution_count": 8,
   "id": "6635798c",
   "metadata": {},
   "outputs": [
    {
     "data": {
      "text/latex": [
       "$\\displaystyle 3 x^{2} + 2 x y - \\sin{\\left(x \\right)}$"
      ],
      "text/plain": [
       "3*x**2 + 2*x*y - sin(x)"
      ]
     },
     "execution_count": 8,
     "metadata": {},
     "output_type": "execute_result"
    }
   ],
   "source": [
    "dfdx = sp.diff(f, x)\n",
    "dfdx"
   ]
  },
  {
   "cell_type": "code",
   "execution_count": 9,
   "id": "bac8dc63",
   "metadata": {},
   "outputs": [
    {
     "data": {
      "text/latex": [
       "$\\displaystyle 6 x + 2 y - \\cos{\\left(x \\right)}$"
      ],
      "text/plain": [
       "6*x + 2*y - cos(x)"
      ]
     },
     "execution_count": 9,
     "metadata": {},
     "output_type": "execute_result"
    }
   ],
   "source": [
    "d2fdx2 = sp.diff(f, x, 2)\n",
    "d2fdx2"
   ]
  },
  {
   "cell_type": "code",
   "execution_count": 10,
   "id": "2eba78fc",
   "metadata": {},
   "outputs": [
    {
     "data": {
      "text/latex": [
       "$\\displaystyle 14.4161468365471$"
      ],
      "text/plain": [
       "14.4161468365471"
      ]
     },
     "execution_count": 10,
     "metadata": {},
     "output_type": "execute_result"
    }
   ],
   "source": [
    "d2fdx2.subs([(x,2),(y,1)]).evalf()"
   ]
  },
  {
   "cell_type": "code",
   "execution_count": null,
   "id": "90b8629a",
   "metadata": {},
   "outputs": [],
   "source": []
  }
 ],
 "metadata": {
  "kernelspec": {
   "display_name": "Python 3.9.15 ('myenv')",
   "language": "python",
   "name": "python3"
  },
  "language_info": {
   "codemirror_mode": {
    "name": "ipython",
    "version": 3
   },
   "file_extension": ".py",
   "mimetype": "text/x-python",
   "name": "python",
   "nbconvert_exporter": "python",
   "pygments_lexer": "ipython3",
   "version": "3.11.3"
  },
  "vscode": {
   "interpreter": {
    "hash": "76d09b869e2108d12e939859268aaee08197fa907479b236c52d527ebd9ee068"
   }
  }
 },
 "nbformat": 4,
 "nbformat_minor": 5
}
