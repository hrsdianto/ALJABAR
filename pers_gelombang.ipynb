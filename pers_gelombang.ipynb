{
 "cells": [
  {
   "cell_type": "code",
   "execution_count": 49,
   "metadata": {},
   "outputs": [],
   "source": [
    "import sympy as sp\n",
    "from sympy import *"
   ]
  },
  {
   "cell_type": "code",
   "execution_count": 50,
   "metadata": {},
   "outputs": [],
   "source": [
    "x, t, C, a, v = sp.symbols('x t C a v', real=True, positive=True)"
   ]
  },
  {
   "attachments": {},
   "cell_type": "markdown",
   "metadata": {},
   "source": [
    "Dikatakan persamaan gelombang jika terpenuhi persamaan berikut\n",
    "\n",
    "$$ \\frac{\\partial^2}{\\partial x^2} \\psi - \\frac{1}{V^2}\\frac{\\partial^2}{\\partial t^2}\\psi = 0 $$"
   ]
  },
  {
   "attachments": {},
   "cell_type": "markdown",
   "metadata": {},
   "source": [
    "### <span style=\"color:yellow\"> PERSAMAAN 1 </style>"
   ]
  },
  {
   "cell_type": "code",
   "execution_count": 51,
   "metadata": {},
   "outputs": [
    {
     "data": {
      "text/latex": [
       "$\\displaystyle C e^{- a \\left(- t v + x\\right)^{2}}$"
      ],
      "text/plain": [
       "C*exp(-a*(-t*v + x)**2)"
      ]
     },
     "execution_count": 51,
     "metadata": {},
     "output_type": "execute_result"
    }
   ],
   "source": [
    "Y1 = C * exp(-a*(x-v*t)**2)\n",
    "Y1"
   ]
  },
  {
   "cell_type": "code",
   "execution_count": 52,
   "metadata": {},
   "outputs": [
    {
     "data": {
      "text/latex": [
       "$\\displaystyle 2 C a \\left(2 a \\left(t v - x\\right)^{2} - 1\\right) e^{- a \\left(t v - x\\right)^{2}}$"
      ],
      "text/plain": [
       "2*C*a*(2*a*(t*v - x)**2 - 1)*exp(-a*(t*v - x)**2)"
      ]
     },
     "execution_count": 52,
     "metadata": {},
     "output_type": "execute_result"
    }
   ],
   "source": [
    "dY1dx  = sp.diff(Y1, x, 2)\n",
    "dY1dx"
   ]
  },
  {
   "cell_type": "code",
   "execution_count": 53,
   "metadata": {},
   "outputs": [
    {
     "data": {
      "text/latex": [
       "$\\displaystyle 2 C a v^{2} \\cdot \\left(2 a \\left(t v - x\\right)^{2} - 1\\right) e^{- a \\left(t v - x\\right)^{2}}$"
      ],
      "text/plain": [
       "2*C*a*v**2*(2*a*(t*v - x)**2 - 1)*exp(-a*(t*v - x)**2)"
      ]
     },
     "execution_count": 53,
     "metadata": {},
     "output_type": "execute_result"
    }
   ],
   "source": [
    "dY1dt  = sp.diff(Y1, t, 2)\n",
    "dY1dt"
   ]
  },
  {
   "cell_type": "code",
   "execution_count": 54,
   "metadata": {},
   "outputs": [
    {
     "data": {
      "text/latex": [
       "$\\displaystyle 2 C a \\left(2 a \\left(t v - x\\right)^{2} - 1\\right) e^{- a \\left(t v - x\\right)^{2}}$"
      ],
      "text/plain": [
       "2*C*a*(2*a*(t*v - x)**2 - 1)*exp(-a*(t*v - x)**2)"
      ]
     },
     "execution_count": 54,
     "metadata": {},
     "output_type": "execute_result"
    }
   ],
   "source": [
    "T1 = dY1dt * (1/v**2)\n",
    "T1"
   ]
  },
  {
   "cell_type": "code",
   "execution_count": 55,
   "metadata": {},
   "outputs": [
    {
     "data": {
      "text/latex": [
       "$\\displaystyle 0$"
      ],
      "text/plain": [
       "0"
      ]
     },
     "execution_count": 55,
     "metadata": {},
     "output_type": "execute_result"
    }
   ],
   "source": [
    "dY1dx - T1"
   ]
  },
  {
   "attachments": {},
   "cell_type": "markdown",
   "metadata": {},
   "source": [
    "### <span style=\"color:yellow\"> PERSAMAAN 2 </style>"
   ]
  },
  {
   "cell_type": "code",
   "execution_count": 56,
   "metadata": {},
   "outputs": [
    {
     "data": {
      "text/latex": [
       "$\\displaystyle C e^{- a \\left(a x^{2} - t v\\right)}$"
      ],
      "text/plain": [
       "C*exp(-a*(a*x**2 - t*v))"
      ]
     },
     "execution_count": 56,
     "metadata": {},
     "output_type": "execute_result"
    }
   ],
   "source": [
    "Y2 = C * exp(-a*((a*x**2) - (v*t)))\n",
    "Y2"
   ]
  },
  {
   "cell_type": "code",
   "execution_count": 57,
   "metadata": {},
   "outputs": [
    {
     "data": {
      "text/latex": [
       "$\\displaystyle 2 C a^{2} \\cdot \\left(2 a^{2} x^{2} - 1\\right) e^{- a \\left(a x^{2} - t v\\right)}$"
      ],
      "text/plain": [
       "2*C*a**2*(2*a**2*x**2 - 1)*exp(-a*(a*x**2 - t*v))"
      ]
     },
     "execution_count": 57,
     "metadata": {},
     "output_type": "execute_result"
    }
   ],
   "source": [
    "dY2dx  = sp.diff(Y2, x, 2)\n",
    "dY2dx"
   ]
  },
  {
   "cell_type": "code",
   "execution_count": 58,
   "metadata": {},
   "outputs": [
    {
     "data": {
      "text/latex": [
       "$\\displaystyle C a^{2} v^{2} e^{- a \\left(a x^{2} - t v\\right)}$"
      ],
      "text/plain": [
       "C*a**2*v**2*exp(-a*(a*x**2 - t*v))"
      ]
     },
     "execution_count": 58,
     "metadata": {},
     "output_type": "execute_result"
    }
   ],
   "source": [
    "dY2dt  = sp.diff(Y2, t, 2)\n",
    "dY2dt"
   ]
  },
  {
   "cell_type": "code",
   "execution_count": 59,
   "metadata": {},
   "outputs": [
    {
     "data": {
      "text/latex": [
       "$\\displaystyle C a^{2} e^{- a \\left(a x^{2} - t v\\right)}$"
      ],
      "text/plain": [
       "C*a**2*exp(-a*(a*x**2 - t*v))"
      ]
     },
     "execution_count": 59,
     "metadata": {},
     "output_type": "execute_result"
    }
   ],
   "source": [
    "T2 = dY2dt * (1/v**2)\n",
    "T2"
   ]
  },
  {
   "cell_type": "code",
   "execution_count": 60,
   "metadata": {},
   "outputs": [
    {
     "data": {
      "text/latex": [
       "$\\displaystyle 2 C a^{2} \\cdot \\left(2 a^{2} x^{2} - 1\\right) e^{- a \\left(a x^{2} - t v\\right)} - C a^{2} e^{- a \\left(a x^{2} - t v\\right)}$"
      ],
      "text/plain": [
       "2*C*a**2*(2*a**2*x**2 - 1)*exp(-a*(a*x**2 - t*v)) - C*a**2*exp(-a*(a*x**2 - t*v))"
      ]
     },
     "execution_count": 60,
     "metadata": {},
     "output_type": "execute_result"
    }
   ],
   "source": [
    "dY2dx - T2"
   ]
  },
  {
   "attachments": {},
   "cell_type": "markdown",
   "metadata": {},
   "source": [
    "### <span style=\"color:yellow\"> PERSAMAAN 3 </style>"
   ]
  },
  {
   "cell_type": "code",
   "execution_count": 61,
   "metadata": {},
   "outputs": [
    {
     "data": {
      "text/latex": [
       "$\\displaystyle C \\sin{\\left(a x \\right)} \\cos{\\left(a^{3} t^{3} v^{3} \\right)}$"
      ],
      "text/plain": [
       "C*sin(a*x)*cos(a**3*t**3*v**3)"
      ]
     },
     "execution_count": 61,
     "metadata": {},
     "output_type": "execute_result"
    }
   ],
   "source": [
    "Y3 = C * sp.sin(a*x) * sp.cos((a*v*t)**3)\n",
    "Y3"
   ]
  },
  {
   "cell_type": "code",
   "execution_count": 62,
   "metadata": {},
   "outputs": [
    {
     "data": {
      "text/latex": [
       "$\\displaystyle - C a^{2} \\sin{\\left(a x \\right)} \\cos{\\left(a^{3} t^{3} v^{3} \\right)}$"
      ],
      "text/plain": [
       "-C*a**2*sin(a*x)*cos(a**3*t**3*v**3)"
      ]
     },
     "execution_count": 62,
     "metadata": {},
     "output_type": "execute_result"
    }
   ],
   "source": [
    "dY3dx  = sp.diff(Y3, x, 2)\n",
    "dY3dx"
   ]
  },
  {
   "cell_type": "code",
   "execution_count": 63,
   "metadata": {},
   "outputs": [
    {
     "data": {
      "text/latex": [
       "$\\displaystyle - 3 C a^{3} t v^{3} \\cdot \\left(3 a^{3} t^{3} v^{3} \\cos{\\left(a^{3} t^{3} v^{3} \\right)} + 2 \\sin{\\left(a^{3} t^{3} v^{3} \\right)}\\right) \\sin{\\left(a x \\right)}$"
      ],
      "text/plain": [
       "-3*C*a**3*t*v**3*(3*a**3*t**3*v**3*cos(a**3*t**3*v**3) + 2*sin(a**3*t**3*v**3))*sin(a*x)"
      ]
     },
     "execution_count": 63,
     "metadata": {},
     "output_type": "execute_result"
    }
   ],
   "source": [
    "dY3dt  = sp.diff(Y3, t, 2)\n",
    "dY3dt"
   ]
  },
  {
   "cell_type": "code",
   "execution_count": 64,
   "metadata": {},
   "outputs": [
    {
     "data": {
      "text/latex": [
       "$\\displaystyle - 3 C a^{3} t v \\left(3 a^{3} t^{3} v^{3} \\cos{\\left(a^{3} t^{3} v^{3} \\right)} + 2 \\sin{\\left(a^{3} t^{3} v^{3} \\right)}\\right) \\sin{\\left(a x \\right)}$"
      ],
      "text/plain": [
       "-3*C*a**3*t*v*(3*a**3*t**3*v**3*cos(a**3*t**3*v**3) + 2*sin(a**3*t**3*v**3))*sin(a*x)"
      ]
     },
     "execution_count": 64,
     "metadata": {},
     "output_type": "execute_result"
    }
   ],
   "source": [
    "T3 = dY3dt * (1/v**2)\n",
    "T3"
   ]
  },
  {
   "cell_type": "code",
   "execution_count": 70,
   "metadata": {},
   "outputs": [
    {
     "data": {
      "text/latex": [
       "$\\displaystyle 3 C a^{3} t v \\left(3 a^{3} t^{3} v^{3} \\cos{\\left(a^{3} t^{3} v^{3} \\right)} + 2 \\sin{\\left(a^{3} t^{3} v^{3} \\right)}\\right) \\sin{\\left(a x \\right)} + 2 C a^{2} \\cdot \\left(2 a^{2} x^{2} - 1\\right) e^{- a \\left(a x^{2} - t v\\right)}$"
      ],
      "text/plain": [
       "3*C*a**3*t*v*(3*a**3*t**3*v**3*cos(a**3*t**3*v**3) + 2*sin(a**3*t**3*v**3))*sin(a*x) + 2*C*a**2*(2*a**2*x**2 - 1)*exp(-a*(a*x**2 - t*v))"
      ]
     },
     "execution_count": 70,
     "metadata": {},
     "output_type": "execute_result"
    }
   ],
   "source": [
    "dY2dx - T3"
   ]
  },
  {
   "attachments": {},
   "cell_type": "markdown",
   "metadata": {},
   "source": [
    "### <span style=\"color:yellow\"> PERSAMAAN 4 </style>"
   ]
  },
  {
   "cell_type": "code",
   "execution_count": 66,
   "metadata": {},
   "outputs": [
    {
     "data": {
      "text/latex": [
       "$\\displaystyle \\frac{C}{a \\left(- t v + x\\right)^{2} + 1}$"
      ],
      "text/plain": [
       "C/(a*(-t*v + x)**2 + 1)"
      ]
     },
     "execution_count": 66,
     "metadata": {},
     "output_type": "execute_result"
    }
   ],
   "source": [
    "Y4 = C / (a*(x - (v*t))**2+1)\n",
    "Y4"
   ]
  },
  {
   "cell_type": "code",
   "execution_count": 67,
   "metadata": {},
   "outputs": [
    {
     "data": {
      "text/latex": [
       "$\\displaystyle \\frac{2 C a \\left(\\frac{4 a \\left(t v - x\\right)^{2}}{a \\left(t v - x\\right)^{2} + 1} - 1\\right)}{\\left(a \\left(t v - x\\right)^{2} + 1\\right)^{2}}$"
      ],
      "text/plain": [
       "2*C*a*(4*a*(t*v - x)**2/(a*(t*v - x)**2 + 1) - 1)/(a*(t*v - x)**2 + 1)**2"
      ]
     },
     "execution_count": 67,
     "metadata": {},
     "output_type": "execute_result"
    }
   ],
   "source": [
    "dY4dx  = sp.diff(Y4, x, 2)\n",
    "dY4dx"
   ]
  },
  {
   "cell_type": "code",
   "execution_count": 68,
   "metadata": {},
   "outputs": [
    {
     "data": {
      "text/latex": [
       "$\\displaystyle \\frac{2 C a v^{2} \\cdot \\left(\\frac{4 a \\left(t v - x\\right)^{2}}{a \\left(t v - x\\right)^{2} + 1} - 1\\right)}{\\left(a \\left(t v - x\\right)^{2} + 1\\right)^{2}}$"
      ],
      "text/plain": [
       "2*C*a*v**2*(4*a*(t*v - x)**2/(a*(t*v - x)**2 + 1) - 1)/(a*(t*v - x)**2 + 1)**2"
      ]
     },
     "execution_count": 68,
     "metadata": {},
     "output_type": "execute_result"
    }
   ],
   "source": [
    "dY4dt  = sp.diff(Y4, t, 2)\n",
    "dY4dt"
   ]
  },
  {
   "cell_type": "code",
   "execution_count": 71,
   "metadata": {},
   "outputs": [
    {
     "data": {
      "text/latex": [
       "$\\displaystyle \\frac{2 C a \\left(\\frac{4 a \\left(t v - x\\right)^{2}}{a \\left(t v - x\\right)^{2} + 1} - 1\\right)}{\\left(a \\left(t v - x\\right)^{2} + 1\\right)^{2}}$"
      ],
      "text/plain": [
       "2*C*a*(4*a*(t*v - x)**2/(a*(t*v - x)**2 + 1) - 1)/(a*(t*v - x)**2 + 1)**2"
      ]
     },
     "execution_count": 71,
     "metadata": {},
     "output_type": "execute_result"
    }
   ],
   "source": [
    "T4 = dY4dt * (1/v**2)\n",
    "T4"
   ]
  },
  {
   "cell_type": "code",
   "execution_count": 72,
   "metadata": {},
   "outputs": [
    {
     "data": {
      "text/latex": [
       "$\\displaystyle 0$"
      ],
      "text/plain": [
       "0"
      ]
     },
     "execution_count": 72,
     "metadata": {},
     "output_type": "execute_result"
    }
   ],
   "source": [
    "dY4dx - T4"
   ]
  },
  {
   "cell_type": "markdown",
   "metadata": {},
   "source": []
  }
 ],
 "metadata": {
  "kernelspec": {
   "display_name": "sympy_env",
   "language": "python",
   "name": "python3"
  },
  "language_info": {
   "codemirror_mode": {
    "name": "ipython",
    "version": 3
   },
   "file_extension": ".py",
   "mimetype": "text/x-python",
   "name": "python",
   "nbconvert_exporter": "python",
   "pygments_lexer": "ipython3",
   "version": "3.11.3"
  },
  "orig_nbformat": 4
 },
 "nbformat": 4,
 "nbformat_minor": 2
}
