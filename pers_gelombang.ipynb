{
 "cells": [
  {
   "cell_type": "code",
   "execution_count": 1,
   "metadata": {},
   "outputs": [],
   "source": [
    "import sympy as sp\n",
    "from sympy import *"
   ]
  },
  {
   "cell_type": "code",
   "execution_count": 2,
   "metadata": {},
   "outputs": [],
   "source": [
    "x, t, C, a, v = sp.symbols('x t C a v', real=True, positive=True)"
   ]
  },
  {
   "attachments": {},
   "cell_type": "markdown",
   "metadata": {},
   "source": [
    "Dikatakan fungsi gelombang jika terpenuhi persamaan gelombang berikut\n",
    "\n",
    "$$ \\frac{\\partial^2}{\\partial x^2} \\psi - \\frac{1}{V^2}\\frac{\\partial^2}{\\partial t^2}\\psi = 0 $$"
   ]
  },
  {
   "attachments": {},
   "cell_type": "markdown",
   "metadata": {},
   "source": [
    "### <span style=\"color:yellow\"> PERSAMAAN 1 </style>"
   ]
  },
  {
   "cell_type": "code",
   "execution_count": 3,
   "metadata": {},
   "outputs": [
    {
     "data": {
      "text/latex": [
       "$\\displaystyle C e^{- a \\left(- t v + x\\right)^{2}}$"
      ],
      "text/plain": [
       "C*exp(-a*(-t*v + x)**2)"
      ]
     },
     "execution_count": 3,
     "metadata": {},
     "output_type": "execute_result"
    }
   ],
   "source": [
    "Y1 = C * exp(-a*(x-v*t)**2)\n",
    "Y1"
   ]
  },
  {
   "cell_type": "code",
   "execution_count": 4,
   "metadata": {},
   "outputs": [
    {
     "data": {
      "text/latex": [
       "$\\displaystyle 2 C a \\left(2 a \\left(t v - x\\right)^{2} - 1\\right) e^{- a \\left(t v - x\\right)^{2}}$"
      ],
      "text/plain": [
       "2*C*a*(2*a*(t*v - x)**2 - 1)*exp(-a*(t*v - x)**2)"
      ]
     },
     "execution_count": 4,
     "metadata": {},
     "output_type": "execute_result"
    }
   ],
   "source": [
    "dY1dx  = sp.diff(Y1, x, 2)\n",
    "dY1dx"
   ]
  },
  {
   "cell_type": "code",
   "execution_count": 5,
   "metadata": {},
   "outputs": [
    {
     "data": {
      "text/latex": [
       "$\\displaystyle 2 C a v^{2} \\cdot \\left(2 a \\left(t v - x\\right)^{2} - 1\\right) e^{- a \\left(t v - x\\right)^{2}}$"
      ],
      "text/plain": [
       "2*C*a*v**2*(2*a*(t*v - x)**2 - 1)*exp(-a*(t*v - x)**2)"
      ]
     },
     "execution_count": 5,
     "metadata": {},
     "output_type": "execute_result"
    }
   ],
   "source": [
    "dY1dt  = sp.diff(Y1, t, 2)\n",
    "dY1dt"
   ]
  },
  {
   "cell_type": "code",
   "execution_count": 6,
   "metadata": {},
   "outputs": [
    {
     "data": {
      "text/latex": [
       "$\\displaystyle 2 C a \\left(2 a \\left(t v - x\\right)^{2} - 1\\right) e^{- a \\left(t v - x\\right)^{2}}$"
      ],
      "text/plain": [
       "2*C*a*(2*a*(t*v - x)**2 - 1)*exp(-a*(t*v - x)**2)"
      ]
     },
     "execution_count": 6,
     "metadata": {},
     "output_type": "execute_result"
    }
   ],
   "source": [
    "T1 = dY1dt * (1/v**2)\n",
    "T1"
   ]
  },
  {
   "cell_type": "code",
   "execution_count": 7,
   "metadata": {},
   "outputs": [
    {
     "data": {
      "text/latex": [
       "$\\displaystyle 0$"
      ],
      "text/plain": [
       "0"
      ]
     },
     "execution_count": 7,
     "metadata": {},
     "output_type": "execute_result"
    }
   ],
   "source": [
    "dY1dx - T1"
   ]
  },
  {
   "attachments": {},
   "cell_type": "markdown",
   "metadata": {},
   "source": [
    "### <span style=\"color:yellow\"> PERSAMAAN 2 </style>"
   ]
  },
  {
   "cell_type": "code",
   "execution_count": 8,
   "metadata": {},
   "outputs": [
    {
     "data": {
      "text/latex": [
       "$\\displaystyle C e^{- a \\left(a x^{2} - t v\\right)}$"
      ],
      "text/plain": [
       "C*exp(-a*(a*x**2 - t*v))"
      ]
     },
     "execution_count": 8,
     "metadata": {},
     "output_type": "execute_result"
    }
   ],
   "source": [
    "Y2 = C * exp(-a*((a*x**2) - (v*t)))\n",
    "Y2"
   ]
  },
  {
   "cell_type": "code",
   "execution_count": 9,
   "metadata": {},
   "outputs": [
    {
     "data": {
      "text/latex": [
       "$\\displaystyle 2 C a^{2} \\cdot \\left(2 a^{2} x^{2} - 1\\right) e^{- a \\left(a x^{2} - t v\\right)}$"
      ],
      "text/plain": [
       "2*C*a**2*(2*a**2*x**2 - 1)*exp(-a*(a*x**2 - t*v))"
      ]
     },
     "execution_count": 9,
     "metadata": {},
     "output_type": "execute_result"
    }
   ],
   "source": [
    "dY2dx  = sp.diff(Y2, x, 2)\n",
    "dY2dx"
   ]
  },
  {
   "cell_type": "code",
   "execution_count": 10,
   "metadata": {},
   "outputs": [
    {
     "data": {
      "text/latex": [
       "$\\displaystyle C a^{2} v^{2} e^{- a \\left(a x^{2} - t v\\right)}$"
      ],
      "text/plain": [
       "C*a**2*v**2*exp(-a*(a*x**2 - t*v))"
      ]
     },
     "execution_count": 10,
     "metadata": {},
     "output_type": "execute_result"
    }
   ],
   "source": [
    "dY2dt  = sp.diff(Y2, t, 2)\n",
    "dY2dt"
   ]
  },
  {
   "cell_type": "code",
   "execution_count": 11,
   "metadata": {},
   "outputs": [
    {
     "data": {
      "text/latex": [
       "$\\displaystyle C a^{2} e^{- a \\left(a x^{2} - t v\\right)}$"
      ],
      "text/plain": [
       "C*a**2*exp(-a*(a*x**2 - t*v))"
      ]
     },
     "execution_count": 11,
     "metadata": {},
     "output_type": "execute_result"
    }
   ],
   "source": [
    "T2 = dY2dt * (1/v**2)\n",
    "T2"
   ]
  },
  {
   "cell_type": "code",
   "execution_count": 12,
   "metadata": {},
   "outputs": [
    {
     "data": {
      "text/latex": [
       "$\\displaystyle 2 C a^{2} \\cdot \\left(2 a^{2} x^{2} - 1\\right) e^{- a \\left(a x^{2} - t v\\right)} - C a^{2} e^{- a \\left(a x^{2} - t v\\right)}$"
      ],
      "text/plain": [
       "2*C*a**2*(2*a**2*x**2 - 1)*exp(-a*(a*x**2 - t*v)) - C*a**2*exp(-a*(a*x**2 - t*v))"
      ]
     },
     "execution_count": 12,
     "metadata": {},
     "output_type": "execute_result"
    }
   ],
   "source": [
    "dY2dx - T2"
   ]
  },
  {
   "attachments": {},
   "cell_type": "markdown",
   "metadata": {},
   "source": [
    "### <span style=\"color:yellow\"> PERSAMAAN 3 </style>"
   ]
  },
  {
   "cell_type": "code",
   "execution_count": 13,
   "metadata": {},
   "outputs": [
    {
     "data": {
      "text/latex": [
       "$\\displaystyle C \\sin{\\left(a x \\right)} \\cos{\\left(a^{3} t^{3} v^{3} \\right)}$"
      ],
      "text/plain": [
       "C*sin(a*x)*cos(a**3*t**3*v**3)"
      ]
     },
     "execution_count": 13,
     "metadata": {},
     "output_type": "execute_result"
    }
   ],
   "source": [
    "Y3 = C * sp.sin(a*x) * sp.cos((a*v*t)**3)\n",
    "Y3"
   ]
  },
  {
   "cell_type": "code",
   "execution_count": 14,
   "metadata": {},
   "outputs": [
    {
     "data": {
      "text/latex": [
       "$\\displaystyle - C a^{2} \\sin{\\left(a x \\right)} \\cos{\\left(a^{3} t^{3} v^{3} \\right)}$"
      ],
      "text/plain": [
       "-C*a**2*sin(a*x)*cos(a**3*t**3*v**3)"
      ]
     },
     "execution_count": 14,
     "metadata": {},
     "output_type": "execute_result"
    }
   ],
   "source": [
    "dY3dx  = sp.diff(Y3, x, 2)\n",
    "dY3dx"
   ]
  },
  {
   "cell_type": "code",
   "execution_count": 15,
   "metadata": {},
   "outputs": [
    {
     "data": {
      "text/latex": [
       "$\\displaystyle - 3 C a^{3} t v^{3} \\cdot \\left(3 a^{3} t^{3} v^{3} \\cos{\\left(a^{3} t^{3} v^{3} \\right)} + 2 \\sin{\\left(a^{3} t^{3} v^{3} \\right)}\\right) \\sin{\\left(a x \\right)}$"
      ],
      "text/plain": [
       "-3*C*a**3*t*v**3*(3*a**3*t**3*v**3*cos(a**3*t**3*v**3) + 2*sin(a**3*t**3*v**3))*sin(a*x)"
      ]
     },
     "execution_count": 15,
     "metadata": {},
     "output_type": "execute_result"
    }
   ],
   "source": [
    "dY3dt  = sp.diff(Y3, t, 2)\n",
    "dY3dt"
   ]
  },
  {
   "cell_type": "code",
   "execution_count": 16,
   "metadata": {},
   "outputs": [
    {
     "data": {
      "text/latex": [
       "$\\displaystyle - 3 C a^{3} t v \\left(3 a^{3} t^{3} v^{3} \\cos{\\left(a^{3} t^{3} v^{3} \\right)} + 2 \\sin{\\left(a^{3} t^{3} v^{3} \\right)}\\right) \\sin{\\left(a x \\right)}$"
      ],
      "text/plain": [
       "-3*C*a**3*t*v*(3*a**3*t**3*v**3*cos(a**3*t**3*v**3) + 2*sin(a**3*t**3*v**3))*sin(a*x)"
      ]
     },
     "execution_count": 16,
     "metadata": {},
     "output_type": "execute_result"
    }
   ],
   "source": [
    "T3 = dY3dt * (1/v**2)\n",
    "T3"
   ]
  },
  {
   "cell_type": "code",
   "execution_count": 17,
   "metadata": {},
   "outputs": [
    {
     "data": {
      "text/latex": [
       "$\\displaystyle 3 C a^{3} t v \\left(3 a^{3} t^{3} v^{3} \\cos{\\left(a^{3} t^{3} v^{3} \\right)} + 2 \\sin{\\left(a^{3} t^{3} v^{3} \\right)}\\right) \\sin{\\left(a x \\right)} + 2 C a^{2} \\cdot \\left(2 a^{2} x^{2} - 1\\right) e^{- a \\left(a x^{2} - t v\\right)}$"
      ],
      "text/plain": [
       "3*C*a**3*t*v*(3*a**3*t**3*v**3*cos(a**3*t**3*v**3) + 2*sin(a**3*t**3*v**3))*sin(a*x) + 2*C*a**2*(2*a**2*x**2 - 1)*exp(-a*(a*x**2 - t*v))"
      ]
     },
     "execution_count": 17,
     "metadata": {},
     "output_type": "execute_result"
    }
   ],
   "source": [
    "dY2dx - T3"
   ]
  },
  {
   "attachments": {},
   "cell_type": "markdown",
   "metadata": {},
   "source": [
    "### <span style=\"color:yellow\"> PERSAMAAN 4 </style>"
   ]
  },
  {
   "cell_type": "code",
   "execution_count": 18,
   "metadata": {},
   "outputs": [
    {
     "data": {
      "text/latex": [
       "$\\displaystyle \\frac{C}{a \\left(- t v + x\\right)^{2} + 1}$"
      ],
      "text/plain": [
       "C/(a*(-t*v + x)**2 + 1)"
      ]
     },
     "execution_count": 18,
     "metadata": {},
     "output_type": "execute_result"
    }
   ],
   "source": [
    "Y4 = C / (a*(x - (v*t))**2+1)\n",
    "Y4"
   ]
  },
  {
   "cell_type": "code",
   "execution_count": 19,
   "metadata": {},
   "outputs": [
    {
     "data": {
      "text/latex": [
       "$\\displaystyle \\frac{2 C a \\left(\\frac{4 a \\left(t v - x\\right)^{2}}{a \\left(t v - x\\right)^{2} + 1} - 1\\right)}{\\left(a \\left(t v - x\\right)^{2} + 1\\right)^{2}}$"
      ],
      "text/plain": [
       "2*C*a*(4*a*(t*v - x)**2/(a*(t*v - x)**2 + 1) - 1)/(a*(t*v - x)**2 + 1)**2"
      ]
     },
     "execution_count": 19,
     "metadata": {},
     "output_type": "execute_result"
    }
   ],
   "source": [
    "dY4dx  = sp.diff(Y4, x, 2)\n",
    "dY4dx"
   ]
  },
  {
   "cell_type": "code",
   "execution_count": 20,
   "metadata": {},
   "outputs": [
    {
     "data": {
      "text/latex": [
       "$\\displaystyle \\frac{2 C a v^{2} \\cdot \\left(\\frac{4 a \\left(t v - x\\right)^{2}}{a \\left(t v - x\\right)^{2} + 1} - 1\\right)}{\\left(a \\left(t v - x\\right)^{2} + 1\\right)^{2}}$"
      ],
      "text/plain": [
       "2*C*a*v**2*(4*a*(t*v - x)**2/(a*(t*v - x)**2 + 1) - 1)/(a*(t*v - x)**2 + 1)**2"
      ]
     },
     "execution_count": 20,
     "metadata": {},
     "output_type": "execute_result"
    }
   ],
   "source": [
    "dY4dt  = sp.diff(Y4, t, 2)\n",
    "dY4dt"
   ]
  },
  {
   "cell_type": "code",
   "execution_count": 21,
   "metadata": {},
   "outputs": [
    {
     "data": {
      "text/latex": [
       "$\\displaystyle \\frac{2 C a \\left(\\frac{4 a \\left(t v - x\\right)^{2}}{a \\left(t v - x\\right)^{2} + 1} - 1\\right)}{\\left(a \\left(t v - x\\right)^{2} + 1\\right)^{2}}$"
      ],
      "text/plain": [
       "2*C*a*(4*a*(t*v - x)**2/(a*(t*v - x)**2 + 1) - 1)/(a*(t*v - x)**2 + 1)**2"
      ]
     },
     "execution_count": 21,
     "metadata": {},
     "output_type": "execute_result"
    }
   ],
   "source": [
    "T4 = dY4dt * (1/v**2)\n",
    "T4"
   ]
  },
  {
   "cell_type": "code",
   "execution_count": 22,
   "metadata": {},
   "outputs": [
    {
     "data": {
      "text/latex": [
       "$\\displaystyle 0$"
      ],
      "text/plain": [
       "0"
      ]
     },
     "execution_count": 22,
     "metadata": {},
     "output_type": "execute_result"
    }
   ],
   "source": [
    "dY4dx - T4"
   ]
  },
  {
   "attachments": {},
   "cell_type": "markdown",
   "metadata": {},
   "source": [
    "<code>Persamaan 1 dan 4 merupakan fungsi persamaan gelombang </code>"
   ]
  },
  {
   "attachments": {},
   "cell_type": "markdown",
   "metadata": {},
   "source": [
    "<code>“Perubahan medan listrik membangkitkan medan magnet”</code><br>\n",
    "Perubahan medan listrik menimbulkan medan magnet pada dasarnya telah diketahui oleh fisikawan pada abad ke 19. Akan tetapi perubahan medan listrik menimbulkan medan magnet baru digambarkan secara pasti oleh James Clerk Maxwell. Maxwell menunjukkan bahwa fenomena listrik dan magnet dapat digambarkan dengan menggunakan persamaan yang melibatkan medan listrik dan medan magnet. Persamaan yang dinamakan persamaan Maxwell merupakan persamaan  dasar untuk elektromagnet. Hipotesis yang dikemukakan oleh Maxwell, mengacu pada tiga aturan dasar listrik-magnet berikut ini.\n",
    "* Muatan listrik dapat menghasilkan medan listrik di sekitarnya (Hukum Coulomb)\n",
    "* Arus listrik atau muatan listrik yang mengalir dapat menghasilkan medan magnet di sekitarnya (Hukum Biot-Savart)\n",
    "* Perubahan medan magnet dapat menghasilkan medan listrik (Hukum Faraday)\n",
    "\n",
    "Berdasarkan aturan tersebut, Maxwell mengemukakan sebuah hipotesis sebagai berikut: “Karena perubahan medan magnet dapat menimbulkan medan listrik, maka perubahan medan listrik pun akan dapat menimbulkan perubahan medan magnet”. Hipotesis tersebut digunakan untuk menerangkan terjadinya gelombang elektromagnet\n"
   ]
  },
  {
   "attachments": {},
   "cell_type": "markdown",
   "metadata": {},
   "source": [
    "<code>\"Polarisasi Gelombang\"</code>\n",
    "* Polarisasi gelombang adalah penyerapan sebagian arah getar gelombang karena melalui sebuah celah\n",
    "* Polarisasi gelombang hanya terjadi pada gelombang tranversal saja. Itu artinya polarisasi tidak dapat terjadi pada gelombang longitudinal, misalnya pada gelombang bunyi\n",
    "* Polarisasi dapat terjadi karena pemantulan, pembiasan, bias kembar,absorpsi selektif, dan peristiwa bidang getar\n"
   ]
  }
 ],
 "metadata": {
  "kernelspec": {
   "display_name": "sympy_env",
   "language": "python",
   "name": "python3"
  },
  "language_info": {
   "codemirror_mode": {
    "name": "ipython",
    "version": 3
   },
   "file_extension": ".py",
   "mimetype": "text/x-python",
   "name": "python",
   "nbconvert_exporter": "python",
   "pygments_lexer": "ipython3",
   "version": "3.11.3"
  },
  "orig_nbformat": 4
 },
 "nbformat": 4,
 "nbformat_minor": 2
}
